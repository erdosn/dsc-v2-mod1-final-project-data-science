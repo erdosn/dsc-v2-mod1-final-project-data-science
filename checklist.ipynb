{
 "cells": [
  {
   "cell_type": "markdown",
   "metadata": {},
   "source": [
    "I. Notebook\n",
    "    * Clean sections\n",
    "        * Cleaning\n",
    "        * EDA\n",
    "        * Modeling\n",
    "        * Cross Validation\n",
    "        * Model description and summary\n",
    "            * what are your coefficients\n",
    "            * what is the r2 score\n",
    "            * what could be better\n",
    "            * what is really good about the model\n",
    "        * Recommendations (3) \n",
    "        * Further Work\n",
    "    * Comments and Summaries\n",
    "    \n",
    "II. Powerpoint Presentation \n",
    "    * Non Technical\n",
    "    * Images\n",
    "    * Do not have (if possible) complete sentences on any slide\n",
    "    * Give an overview of the data\n",
    "        * do not say every little detail data\n",
    "        * list some important features (attributes, property properties (lulz), features of the house/home)\n",
    "        * list price ranges\n",
    "        * talk about the area\n",
    "        * frame it for an audience\n",
    "    * Recommendation Slide\n",
    "    * Further Work Slide\n",
    "    * Thank You Slide\n",
    "    \n",
    "III. Blog Post (1000 words)\n",
    "    * images\n",
    "    * complete sentences\n",
    "    \n",
    "\n",
    "IV. Video Presentation\n",
    "\n",
    "V. README - completion grade"
   ]
  }
 ],
 "metadata": {
  "kernelspec": {
   "display_name": "Python [conda env:flatiron-env]",
   "language": "python",
   "name": "conda-env-flatiron-env-py"
  },
  "language_info": {
   "codemirror_mode": {
    "name": "ipython",
    "version": 3
   },
   "file_extension": ".py",
   "mimetype": "text/x-python",
   "name": "python",
   "nbconvert_exporter": "python",
   "pygments_lexer": "ipython3",
   "version": "3.6.0"
  }
 },
 "nbformat": 4,
 "nbformat_minor": 2
}
