{
 "cells": [
  {
   "cell_type": "markdown",
   "metadata": {},
   "source": [
    "* Notebook\n",
    "    * Clean sections\n",
    "        * Cleaning\n",
    "        * EDA\n",
    "        * Modeling\n",
    "        * Cross Validation\n",
    "        * Model description and summary\n",
    "            * what are your coefficients\n",
    "            * what is the r2 score\n",
    "            * what could be better\n",
    "            * what is really good about the model\n",
    "        * Recommendations (3) \n",
    "        * Further Work\n",
    "    * Comments and Summaries"
   ]
  },
  {
   "cell_type": "code",
   "execution_count": null,
   "metadata": {},
   "outputs": [],
   "source": []
  }
 ],
 "metadata": {
  "kernelspec": {
   "display_name": "Python [conda env:flatiron-env]",
   "language": "python",
   "name": "conda-env-flatiron-env-py"
  },
  "language_info": {
   "codemirror_mode": {
    "name": "ipython",
    "version": 3
   },
   "file_extension": ".py",
   "mimetype": "text/x-python",
   "name": "python",
   "nbconvert_exporter": "python",
   "pygments_lexer": "ipython3",
   "version": "3.6.0"
  }
 },
 "nbformat": 4,
 "nbformat_minor": 2
}
